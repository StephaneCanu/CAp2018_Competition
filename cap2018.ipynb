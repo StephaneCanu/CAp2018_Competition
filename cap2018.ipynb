{
 "cells": [
  {
   "cell_type": "code",
   "execution_count": 1,
   "metadata": {
    "collapsed": true
   },
   "outputs": [],
   "source": [
    "import numpy as np\n",
    "import pandas as pd"
   ]
  },
  {
   "cell_type": "code",
   "execution_count": 3,
   "metadata": {},
   "outputs": [],
   "source": [
    "data = pd.read_csv(\"./data_as_download/train_cap2018.csv\", sep=\",\",header=0)"
   ]
  },
  {
   "cell_type": "code",
   "execution_count": 4,
   "metadata": {},
   "outputs": [
    {
     "name": "stdout",
     "output_type": "stream",
     "text": [
      "<class 'pandas.core.frame.DataFrame'>\n",
      "RangeIndex: 27310 entries, 0 to 27309\n",
      "Data columns (total 60 columns):\n",
      "fulltext                 27310 non-null object\n",
      "sentences                27310 non-null int64\n",
      "words                    27310 non-null int64\n",
      "letters.all              27310 non-null int64\n",
      "syllables                27310 non-null int64\n",
      "punct                    27310 non-null int64\n",
      "avg.sentc.length         27310 non-null float64\n",
      "avg.word.length          27310 non-null float64\n",
      "avg.syll.word            27310 non-null float64\n",
      "sntc.per.word            27310 non-null float64\n",
      "TTR                      27310 non-null float64\n",
      "ARI                      27310 non-null float64\n",
      "Bormuth                  27310 non-null float64\n",
      "Coleman.C1               27310 non-null int64\n",
      "Coleman.C2               27310 non-null int64\n",
      "Coleman.C3               27310 non-null int64\n",
      "Coleman.C4               27310 non-null int64\n",
      "Coleman.Liau             27310 non-null int64\n",
      "Dale.Chall               27310 non-null float64\n",
      "Danielson.Bryan.DB1      27310 non-null float64\n",
      "Danielson.Bryan.DB2      27310 non-null float64\n",
      "Dickes.Steiwer           27310 non-null float64\n",
      "DRP                      27310 non-null float64\n",
      "ELF                      27310 non-null float64\n",
      "Farr.Jenkins.Paterson    27310 non-null float64\n",
      "Flesch                   27310 non-null float64\n",
      "Flesch.Kincaid           27310 non-null float64\n",
      "FOG                      27310 non-null float64\n",
      "FORCAST                  27310 non-null float64\n",
      "Fucks                    27310 non-null float64\n",
      "Linsear.Write            27310 non-null float64\n",
      "LIX                      27310 non-null float64\n",
      "nWS1                     27310 non-null float64\n",
      "nWS2                     27310 non-null float64\n",
      "nWS3                     27310 non-null float64\n",
      "nWS4                     27310 non-null float64\n",
      "RIX                      27310 non-null float64\n",
      "SMOG                     27310 non-null float64\n",
      "Spache                   27310 non-null float64\n",
      "Strain                   27310 non-null float64\n",
      "Traenkle.Bailer.TB1      27310 non-null float64\n",
      "Traenkle.Bailer.TB2      27310 non-null float64\n",
      "TRI                      27310 non-null float64\n",
      "Tuldava                  27310 non-null float64\n",
      "Wheeler.Smith            27310 non-null float64\n",
      "text                     27310 non-null int64\n",
      "CTTR                     27310 non-null float64\n",
      "HD-D (vocd-D)            27310 non-null float64\n",
      "Herdan's C               27310 non-null float64\n",
      "Maas a                   27310 non-null float64\n",
      "Maas lgV0                27310 non-null float64\n",
      "MATTR                    5459 non-null float64\n",
      "MSTTR                    5674 non-null float64\n",
      "MTLD                     27310 non-null float64\n",
      "Root TTR                 27310 non-null float64\n",
      "Summer                   27310 non-null float64\n",
      "TTR.1                    27310 non-null float64\n",
      "Uber index               27310 non-null float64\n",
      "Yule's K                 27310 non-null float64\n",
      "level1                   27310 non-null object\n",
      "dtypes: float64(47), int64(11), object(2)\n",
      "memory usage: 12.5+ MB\n"
     ]
    }
   ],
   "source": [
    "data.info()"
   ]
  },
  {
   "cell_type": "code",
   "execution_count": 4,
   "metadata": {},
   "outputs": [
    {
     "name": "stdout",
     "output_type": "stream",
     "text": [
      "(27310, 60)\n",
      "['C2' 'C2' 'C2' 'C2']\n",
      "(27310,)\n"
     ]
    },
    {
     "data": {
      "text/plain": [
       "array([6, 6, 6, ..., 1, 1, 1])"
      ]
     },
     "execution_count": 4,
     "metadata": {},
     "output_type": "execute_result"
    }
   ],
   "source": [
    "print(data.shape)\n",
    "y = data[\"level1\"].as_matrix()\n",
    "print(y[1:5])\n",
    "u, indices = np.unique(y, return_inverse=True)\n",
    "print(indices.shape)\n",
    "y = indices+1\n",
    "y"
   ]
  },
  {
   "cell_type": "code",
   "execution_count": 5,
   "metadata": {
    "collapsed": true
   },
   "outputs": [],
   "source": [
    "X = data.as_matrix(columns=data.columns[2:51])\n",
    "\n",
    "from sklearn import preprocessing\n",
    "X = preprocessing.scale(X)"
   ]
  },
  {
   "cell_type": "code",
   "execution_count": 6,
   "metadata": {},
   "outputs": [
    {
     "name": "stdout",
     "output_type": "stream",
     "text": [
      "[[ 3.9219497   4.53008337  4.44762067 ... -0.66215229 -0.24465449\n",
      "   0.60681256]\n",
      " [ 2.64990183  3.16408487  2.87151247 ... -0.32747942 -0.24465449\n",
      "   0.71845411]\n",
      " [ 2.64990183  3.1367649   2.88810308 ...  0.67653918 -1.01914318\n",
      "   1.65218342]\n",
      " ...\n",
      " [-1.19024266 -1.22350229 -1.19318763 ...  1.34588491 -1.27730608\n",
      "   0.42412639]\n",
      " [-1.02223634 -0.98308656 -0.96091905 ...  1.01121204 -0.76098028\n",
      "   0.05875405]\n",
      " [-0.75822641 -0.61699896 -0.71205986 ... -0.32747942  0.78799711\n",
      "  -0.99676603]]\n",
      "(27310, 49)\n"
     ]
    },
    {
     "data": {
      "text/plain": [
       "-1.4612376484742793e-17"
      ]
     },
     "execution_count": 6,
     "metadata": {},
     "output_type": "execute_result"
    }
   ],
   "source": [
    "print(X)\n",
    "print(X.shape)\n",
    "X.mean()"
   ]
  },
  {
   "cell_type": "code",
   "execution_count": 7,
   "metadata": {
    "collapsed": true
   },
   "outputs": [],
   "source": [
    "from sklearn import datasets, svm, metrics\n",
    "from sklearn.model_selection import train_test_split\n",
    "import time\n",
    "import datetime as dt\n",
    "\n",
    "X_train, X_test, y_train, y_test = train_test_split(X, y, test_size=0.33, random_state=42)"
   ]
  },
  {
   "cell_type": "code",
   "execution_count": 8,
   "metadata": {
    "collapsed": true
   },
   "outputs": [],
   "source": [
    "param_C = 100\n",
    "param_gamma = 0.0125\n",
    "classifier = svm.SVC(probability=False,cache_size=2000,C=param_C,gamma=param_gamma)"
   ]
  },
  {
   "cell_type": "code",
   "execution_count": 9,
   "metadata": {},
   "outputs": [
    {
     "name": "stdout",
     "output_type": "stream",
     "text": [
      "Start learning at 2018-09-07 09:11:50.415175\n",
      "Elapsed learning 0:00:20.808851\n"
     ]
    }
   ],
   "source": [
    "start_time = dt.datetime.now()\n",
    "print('Start learning at {}'.format(str(start_time)))\n",
    "classifier.fit(X_train, y_train)\n",
    "end_time = dt.datetime.now() \n",
    "#print('Stop learning {}'.format(str(end_time)))\n",
    "elapsed_time= end_time - start_time\n",
    "print('Elapsed learning {}'.format(str(elapsed_time)))"
   ]
  },
  {
   "cell_type": "code",
   "execution_count": 10,
   "metadata": {},
   "outputs": [
    {
     "name": "stdout",
     "output_type": "stream",
     "text": [
      "Confusion matrix:\n",
      "[[   0    0    0    0    0 3735]\n",
      " [   0    0    0    0    0 2529]\n",
      " [   0    0    0    0    0 1809]\n",
      " [   0    0    0    0    0  763]\n",
      " [   0    0    0    0    0  164]\n",
      " [   0    0    0    0    0   13]]\n"
     ]
    }
   ],
   "source": [
    "predicted = classifier.predict(X_test)\n",
    "cm = metrics.confusion_matrix(y_test, 6*(predicted>0))\n",
    "print(\"Confusion matrix:\\n%s\" % cm)"
   ]
  },
  {
   "cell_type": "code",
   "execution_count": 11,
   "metadata": {},
   "outputs": [
    {
     "name": "stdout",
     "output_type": "stream",
     "text": [
      "Confusion matrix:\n",
      "[[3308  322   85   18    2    0]\n",
      " [ 326 1952  226   22    3    0]\n",
      " [  53  232 1422   96    6    0]\n",
      " [  12   33  143  552   23    0]\n",
      " [   5    7   14   39   98    1]\n",
      " [   2    1    0    2    6    2]]\n"
     ]
    }
   ],
   "source": [
    "cm = metrics.confusion_matrix(y_test, predicted)\n",
    "print(\"Confusion matrix:\\n%s\" % cm)"
   ]
  },
  {
   "cell_type": "code",
   "execution_count": 12,
   "metadata": {
    "collapsed": true
   },
   "outputs": [],
   "source": [
    "Cost_M =[[ 0, 1 ,    2  ,   3  ,  4   ,   6],\n",
    "         [ 1, 0 ,    1  ,   4  ,   5  ,   8],\n",
    "         [ 3, 2 ,    0  ,   3  ,   5  ,   8],\n",
    "         [10, 7 ,    5  ,   0  ,   2  ,   7],\n",
    "         [20,16 ,   12  ,   4  ,   0  ,   8],\n",
    "         [44,38 ,   32  ,  19  ,  13  ,   0]]"
   ]
  },
  {
   "cell_type": "code",
   "execution_count": 25,
   "metadata": {},
   "outputs": [
    {
     "name": "stdout",
     "output_type": "stream",
     "text": [
      "you score is 44.91\n"
     ]
    }
   ],
   "source": [
    "c = 100*sum(sum(cm*Cost_M))/sum(sum(cm))\n",
    "print(\"you score is %.2f\"% c)"
   ]
  }
 ],
 "metadata": {
  "kernelspec": {
   "display_name": "Python 3",
   "language": "python",
   "name": "python3"
  },
  "language_info": {
   "codemirror_mode": {
    "name": "ipython",
    "version": 3
   },
   "file_extension": ".py",
   "mimetype": "text/x-python",
   "name": "python",
   "nbconvert_exporter": "python",
   "pygments_lexer": "ipython3",
   "version": "3.6.3"
  }
 },
 "nbformat": 4,
 "nbformat_minor": 2
}
